{
 "cells": [
  {
   "cell_type": "code",
   "execution_count": 1,
   "id": "866497ec",
   "metadata": {},
   "outputs": [
    {
     "name": "stdout",
     "output_type": "stream",
     "text": [
      "     Pregnancies  Glucose  BloodPressure  SkinThickness  Insulin   BMI  \\\n",
      "0              6      148             72             35        0  33.6   \n",
      "1              1       85             66             29        0  26.6   \n",
      "2              8      183             64              0        0  23.3   \n",
      "3              1       89             66             23       94  28.1   \n",
      "4              0      137             40             35      168  43.1   \n",
      "..           ...      ...            ...            ...      ...   ...   \n",
      "763           10      101             76             48      180  32.9   \n",
      "764            2      122             70             27        0  36.8   \n",
      "765            5      121             72             23      112  26.2   \n",
      "766            1      126             60              0        0  30.1   \n",
      "767            1       93             70             31        0  30.4   \n",
      "\n",
      "     DiabetesPedigreeFunction  Age  Outcome  \n",
      "0                       0.627   50        1  \n",
      "1                       0.351   31        0  \n",
      "2                       0.672   32        1  \n",
      "3                       0.167   21        0  \n",
      "4                       2.288   33        1  \n",
      "..                        ...  ...      ...  \n",
      "763                     0.171   63        0  \n",
      "764                     0.340   27        0  \n",
      "765                     0.245   30        0  \n",
      "766                     0.349   47        1  \n",
      "767                     0.315   23        0  \n",
      "\n",
      "[768 rows x 9 columns]\n"
     ]
    }
   ],
   "source": [
    "import pandas as pd\n",
    "\n",
    "df = pd.read_csv('diabetes.csv')\n",
    "\n",
    "print(df)"
   ]
  },
  {
   "cell_type": "code",
   "execution_count": 2,
   "id": "6b69d373",
   "metadata": {},
   "outputs": [],
   "source": [
    "x=df.iloc[:,0:8]\n",
    "y=df.iloc[:,-1]"
   ]
  },
  {
   "cell_type": "code",
   "execution_count": 3,
   "id": "818103e0",
   "metadata": {},
   "outputs": [
    {
     "data": {
      "text/plain": [
       "(768, 8)"
      ]
     },
     "execution_count": 3,
     "metadata": {},
     "output_type": "execute_result"
    }
   ],
   "source": [
    "x.shape"
   ]
  },
  {
   "cell_type": "code",
   "execution_count": 4,
   "id": "4333f2fe",
   "metadata": {},
   "outputs": [
    {
     "data": {
      "text/plain": [
       "0      1\n",
       "1      0\n",
       "2      1\n",
       "3      0\n",
       "4      1\n",
       "      ..\n",
       "763    0\n",
       "764    0\n",
       "765    0\n",
       "766    1\n",
       "767    0\n",
       "Name: Outcome, Length: 768, dtype: int64"
      ]
     },
     "execution_count": 4,
     "metadata": {},
     "output_type": "execute_result"
    }
   ],
   "source": [
    "y"
   ]
  },
  {
   "cell_type": "code",
   "execution_count": 5,
   "id": "8ed7ba4e",
   "metadata": {},
   "outputs": [
    {
     "name": "stdout",
     "output_type": "stream",
     "text": [
      "(514, 8)\n",
      "(254, 8)\n"
     ]
    }
   ],
   "source": [
    "from sklearn.model_selection import train_test_split\n",
    "x_train, x_test, y_train, y_test = train_test_split(x, y, test_size=0.33, random_state=42)\n",
    "print(x_train.shape)\n",
    "print(x_test.shape)"
   ]
  },
  {
   "cell_type": "code",
   "execution_count": 6,
   "id": "8d105223",
   "metadata": {},
   "outputs": [],
   "source": [
    "from sklearn.preprocessing import StandardScaler\n",
    "sc=StandardScaler()\n",
    "x_train=sc.fit_transform(x_train)\n",
    "x_test=sc.transform(x_test)"
   ]
  },
  {
   "cell_type": "code",
   "execution_count": 7,
   "id": "3f47efe6",
   "metadata": {},
   "outputs": [
    {
     "data": {
      "text/plain": [
       "array([[ 1.89917664, -0.19475093,  1.55717838, ..., -1.04293476,\n",
       "         1.60661512,  0.06905859],\n",
       "       [ 0.98286551,  0.64046336, -0.55496107, ..., -0.4148062 ,\n",
       "         0.62609815,  2.37289284],\n",
       "       [ 0.06655438, -0.16381707,  0.11203033, ..., -1.29156898,\n",
       "        -0.02953111,  0.32504017],\n",
       "       ...,\n",
       "       [ 1.89917664, -0.62782501,  0.89018698, ...,  1.78364376,\n",
       "         1.94028358,  0.41036736],\n",
       "       [-1.1551938 ,  0.6095295 , -3.88991811, ...,  1.36489138,\n",
       "        -0.78467552, -0.35757739],\n",
       "       [-1.1551938 ,  0.11458769,  1.44601315, ..., -1.23922494,\n",
       "        -0.61784129, -1.04019494]])"
      ]
     },
     "execution_count": 7,
     "metadata": {},
     "output_type": "execute_result"
    }
   ],
   "source": [
    "x_train"
   ]
  },
  {
   "cell_type": "code",
   "execution_count": 8,
   "id": "d88de380",
   "metadata": {},
   "outputs": [
    {
     "data": {
      "text/plain": [
       "array([[ 0.67742846, -0.7206266 , -0.66612631, ...,  0.2656664 ,\n",
       "        -0.12611934,  0.83700334],\n",
       "       [-0.54431971, -0.28755252,  0.27877819, ...,  0.4881286 ,\n",
       "        -0.95150975, -1.04019494],\n",
       "       [-0.54431971, -0.41128797, -0.3326306 , ..., -0.15308597,\n",
       "        -0.92224058, -1.04019494],\n",
       "       ...,\n",
       "       [-0.84975676, -3.75214514,  0.22319557, ..., -0.55875233,\n",
       "        -0.50954538, -1.04019494],\n",
       "       [ 1.28830255,  0.67139722, -0.22146537, ...,  0.38344051,\n",
       "        -1.00712116,  0.66634895],\n",
       "       [-0.54431971, -0.62782501, -0.66612631, ..., -1.01676274,\n",
       "         0.41243326, -0.86954055]])"
      ]
     },
     "execution_count": 8,
     "metadata": {},
     "output_type": "execute_result"
    }
   ],
   "source": [
    "x_test"
   ]
  },
  {
   "cell_type": "code",
   "execution_count": 9,
   "id": "c6f43678",
   "metadata": {},
   "outputs": [],
   "source": [
    "from sklearn.linear_model import LogisticRegression\n",
    "lr = LogisticRegression()\n",
    "model=lr.fit(x_train,y_train)\n",
    "y_pred = lr.predict(x_test)"
   ]
  },
  {
   "cell_type": "code",
   "execution_count": 10,
   "id": "eb82fb3e",
   "metadata": {},
   "outputs": [
    {
     "data": {
      "text/plain": [
       "array([0, 0, 0, 0, 1, 0, 0, 1, 1, 1, 0, 1, 0, 0, 0, 0, 0, 0, 1, 1, 0, 0,\n",
       "       0, 0, 1, 1, 0, 0, 0, 0, 1, 1, 1, 1, 1, 1, 1, 0, 0, 1, 0, 1, 1, 0,\n",
       "       0, 1, 1, 0, 0, 1, 0, 1, 1, 0, 0, 0, 1, 0, 0, 1, 1, 0, 0, 0, 0, 1,\n",
       "       0, 1, 0, 1, 1, 0, 0, 0, 0, 1, 0, 0, 0, 0, 1, 0, 0, 0, 0, 1, 1, 0,\n",
       "       0, 0, 0, 0, 0, 0, 1, 1, 0, 0, 1, 0, 1, 0, 1, 1, 1, 0, 0, 1, 0, 0,\n",
       "       0, 0, 0, 1, 0, 0, 1, 0, 0, 1, 0, 0, 0, 0, 0, 0, 0, 1, 1, 1, 1, 1,\n",
       "       0, 0, 1, 0, 0, 1, 1, 0, 0, 0, 0, 0, 0, 0, 0, 0, 0, 1, 0, 0, 0, 0,\n",
       "       0, 0, 0, 1, 1, 0, 1, 1, 0, 0, 0, 1, 0, 0, 1, 1, 1, 0, 0, 1, 1, 0,\n",
       "       0, 0, 0, 0, 1, 1, 0, 1, 1, 0, 0, 0, 1, 0, 0, 0, 1, 0, 0, 0, 0, 0,\n",
       "       0, 1, 0, 0, 0, 0, 1, 0, 0, 0, 1, 1, 0, 0, 0, 0, 1, 0, 1, 0, 0, 1,\n",
       "       1, 0, 0, 0, 0, 1, 0, 0, 0, 0, 0, 0, 0, 0, 0, 0, 0, 0, 0, 1, 0, 0,\n",
       "       1, 0, 0, 0, 1, 0, 0, 0, 0, 0, 1, 0], dtype=int64)"
      ]
     },
     "execution_count": 10,
     "metadata": {},
     "output_type": "execute_result"
    }
   ],
   "source": [
    "y_pred"
   ]
  },
  {
   "cell_type": "code",
   "execution_count": 11,
   "id": "5f3af82c",
   "metadata": {},
   "outputs": [
    {
     "data": {
      "text/plain": [
       "array([[136,  32],\n",
       "       [ 34,  52]], dtype=int64)"
      ]
     },
     "execution_count": 11,
     "metadata": {},
     "output_type": "execute_result"
    }
   ],
   "source": [
    "from sklearn.metrics import confusion_matrix\n",
    "cm=confusion_matrix(y_test,y_pred)\n",
    "cm"
   ]
  },
  {
   "cell_type": "code",
   "execution_count": 12,
   "id": "7d00b846",
   "metadata": {},
   "outputs": [
    {
     "data": {
      "text/plain": [
       "array([[ 0.67742846, -0.7206266 , -0.66612631, ...,  0.2656664 ,\n",
       "        -0.12611934,  0.83700334],\n",
       "       [-0.54431971, -0.28755252,  0.27877819, ...,  0.4881286 ,\n",
       "        -0.95150975, -1.04019494],\n",
       "       [-0.54431971, -0.41128797, -0.3326306 , ..., -0.15308597,\n",
       "        -0.92224058, -1.04019494],\n",
       "       ...,\n",
       "       [-0.84975676, -0.81342819,  0.66785651, ...,  0.39652652,\n",
       "        -0.70272186,  0.83700334],\n",
       "       [-0.84975676, -3.75214514,  0.22319557, ..., -0.55875233,\n",
       "        -0.50954538, -1.04019494],\n",
       "       [-0.54431971, -0.62782501, -0.66612631, ..., -1.01676274,\n",
       "         0.41243326, -0.86954055]])"
      ]
     },
     "execution_count": 12,
     "metadata": {},
     "output_type": "execute_result"
    }
   ],
   "source": [
    "x_test[y_pred==0]"
   ]
  },
  {
   "cell_type": "code",
   "execution_count": 13,
   "id": "fc215104",
   "metadata": {},
   "outputs": [
    {
     "data": {
      "text/plain": [
       "0.7401574803149606"
      ]
     },
     "execution_count": 13,
     "metadata": {},
     "output_type": "execute_result"
    }
   ],
   "source": [
    "from sklearn.metrics import accuracy_score\n",
    "accuracy=accuracy_score(y_test,y_pred)\n",
    "accuracy"
   ]
  },
  {
   "cell_type": "code",
   "execution_count": 14,
   "id": "3b789de5",
   "metadata": {},
   "outputs": [
    {
     "name": "stdout",
     "output_type": "stream",
     "text": [
      "Defaulting to user installation because normal site-packages is not writeable\n"
     ]
    },
    {
     "name": "stderr",
     "output_type": "stream",
     "text": [
      "ERROR: Could not find a version that satisfies the requirement pickle (from versions: none)\n",
      "ERROR: No matching distribution found for pickle\n"
     ]
    }
   ],
   "source": [
    "!pip install pickle"
   ]
  },
  {
   "cell_type": "code",
   "execution_count": 15,
   "id": "155d1be8",
   "metadata": {},
   "outputs": [],
   "source": [
    "import pickle\n",
    "Model = pickle.dumps(model)"
   ]
  },
  {
   "cell_type": "code",
   "execution_count": 16,
   "id": "7caf1e7b",
   "metadata": {},
   "outputs": [
    {
     "name": "stdout",
     "output_type": "stream",
     "text": [
      "Defaulting to user installation because normal site-packages is not writeable\n"
     ]
    },
    {
     "name": "stderr",
     "output_type": "stream",
     "text": [
      "ERROR: Could not find a version that satisfies the requirement tkinter (from versions: none)\n",
      "ERROR: No matching distribution found for tkinter\n"
     ]
    }
   ],
   "source": [
    "!pip install tkinter"
   ]
  },
  {
   "cell_type": "code",
   "execution_count": 17,
   "id": "c5583800",
   "metadata": {},
   "outputs": [],
   "source": [
    "import tkinter"
   ]
  },
  {
   "cell_type": "code",
   "execution_count": 18,
   "id": "3b46047d",
   "metadata": {},
   "outputs": [
    {
     "name": "stderr",
     "output_type": "stream",
     "text": [
      "C:\\ProgramData\\Anaconda3\\lib\\site-packages\\sklearn\\base.py:450: UserWarning: X does not have valid feature names, but StandardScaler was fitted with feature names\n",
      "  warnings.warn(\n"
     ]
    }
   ],
   "source": [
    "import numpy as np\n",
    "import tkinter as tk\n",
    "\n",
    "from tkinter import ttk\n",
    "\n",
    "win = tk.Tk()\n",
    "\n",
    "win.title(\"Diabetes Prediction\")\n",
    "Preg=ttk.Label(win,text=\"Pregencies\")\n",
    "Preg.grid(row=0,column=0,sticky=tk.W)\n",
    "Preg_var=tk.StringVar()\n",
    "Preg_entrybox=ttk.Entry(win,width=16,textvariable=Preg_var)\n",
    "Preg_entrybox.grid(row=0,column=1)\n",
    "#Column 2\n",
    "glucose=ttk.Label(win,text=\"glucose\")\n",
    "glucose.grid(row=1,column=0,sticky=tk.W)\n",
    "glucose_var=tk.StringVar()\n",
    "glucose_entrybox=ttk.Entry(win,width=16,textvariable=glucose_var)\n",
    "glucose_entrybox.grid(row=1,column=1)\n",
    "#Column 3\n",
    "Pres=ttk.Label(win,text=\"Pressure\")\n",
    "Pres.grid(row=2,column=0,sticky=tk.W)\n",
    "Pres_var=tk.StringVar()\n",
    "Pres_entrybox=ttk.Entry(win,width=16,textvariable=Pres_var)\n",
    "Pres_entrybox.grid(row=2,column=1)\n",
    "#Column 4\n",
    "skin=ttk.Label(win,text=\"skin thin\")\n",
    "skin.grid(row=3,column=0,sticky=tk.W)\n",
    "skin_var=tk.StringVar()\n",
    "skin_entrybox=ttk.Entry(win,width=16,textvariable=skin_var)\n",
    "skin_entrybox.grid(row=3,column=1)\n",
    "#Column 5\n",
    "insulin=ttk.Label(win,text=\"insulin\")\n",
    "insulin.grid(row=4,column=0,sticky=tk.W)\n",
    "insulin_var=tk.StringVar()\n",
    "insulin_entrybox=ttk.Entry(win,width=16,textvariable=insulin_var)\n",
    "insulin_entrybox.grid(row=4,column=1)\n",
    "#Column 6\n",
    "bmi=ttk.Label(win,text=\"bmi\")\n",
    "bmi.grid(row=5,column=0,sticky=tk.W)\n",
    "bmi_var=tk.StringVar()\n",
    "bmi_entrybox=ttk.Entry(win,width=16,textvariable=bmi_var)\n",
    "bmi_entrybox.grid(row=5,column=1)\n",
    "#Column 7\n",
    "predi=ttk.Label(win,text=\"predi\")\n",
    "predi.grid(row=6,column=0,sticky=tk.W)\n",
    "predi_var=tk.StringVar()\n",
    "predi_entrybox=ttk.Entry(win,width=16,textvariable=predi_var)\n",
    "predi_entrybox.grid(row=6,column=1)\n",
    "#Column 8\n",
    "age=ttk.Label(win,text=\"age\")\n",
    "age.grid(row=7,column=0,sticky=tk.W)\n",
    "age_var=tk.StringVar()\n",
    "age_entrybox=ttk.Entry(win,width=16,textvariable=age_var)\n",
    "age_entrybox.grid(row=7,column=1)\n",
    "\n",
    "\n",
    "\n",
    "\n",
    "\n",
    "def Output():\n",
    "    k=np.array([[float(Preg_var.get()),float(glucose_var.get()),float(Pres_var.get()),float(skin_var.get()),float(insulin_var.get()),float(bmi_var.get()),float(predi_var.get()),float(age_var.get())]])\n",
    "    k=sc.transform(k)\n",
    "    output=lr.predict(k)\n",
    "    if output==1:\n",
    "        result='Diabetic'\n",
    "    else:\n",
    "        result='Non-Diabetic'\n",
    "    Predict_entrybox.insert(1,str(result))\n",
    "\n",
    "Predict_entrybox=ttk.Entry(win,width=16)\n",
    "Predict_entrybox.grid(row=20,column=1)\n",
    "\n",
    "Predict_button=ttk.Button(win,text=\"Predict\",command=Output)\n",
    "Predict_button.grid(row=20,column=0)\n",
    "win.mainloop()"
   ]
  },
  {
   "cell_type": "code",
   "execution_count": 19,
   "id": "a7ba577f",
   "metadata": {},
   "outputs": [
    {
     "data": {
      "text/plain": [
       "array([1], dtype=int64)"
      ]
     },
     "execution_count": 19,
     "metadata": {},
     "output_type": "execute_result"
    }
   ],
   "source": [
    "lr.predict([[1,2,3,3,4,5,6,7]])"
   ]
  },
  {
   "cell_type": "code",
   "execution_count": null,
   "id": "b6dae0b3",
   "metadata": {},
   "outputs": [],
   "source": []
  },
  {
   "cell_type": "code",
   "execution_count": null,
   "id": "44bd9295",
   "metadata": {},
   "outputs": [],
   "source": []
  },
  {
   "cell_type": "code",
   "execution_count": null,
   "id": "d09c5522",
   "metadata": {},
   "outputs": [],
   "source": []
  },
  {
   "cell_type": "code",
   "execution_count": null,
   "id": "d4d46a0f",
   "metadata": {},
   "outputs": [],
   "source": []
  }
 ],
 "metadata": {
  "kernelspec": {
   "display_name": "Python 3 (ipykernel)",
   "language": "python",
   "name": "python3"
  },
  "language_info": {
   "codemirror_mode": {
    "name": "ipython",
    "version": 3
   },
   "file_extension": ".py",
   "mimetype": "text/x-python",
   "name": "python",
   "nbconvert_exporter": "python",
   "pygments_lexer": "ipython3",
   "version": "3.9.13"
  }
 },
 "nbformat": 4,
 "nbformat_minor": 5
}
